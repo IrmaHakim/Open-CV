{
 "cells": [
  {
   "cell_type": "code",
   "execution_count": 1,
   "id": "96b87fee",
   "metadata": {},
   "outputs": [],
   "source": [
    "import cv2"
   ]
  },
  {
   "cell_type": "code",
   "execution_count": null,
   "id": "9804fc64",
   "metadata": {},
   "outputs": [],
   "source": [
    "# how to open camera of laptop\n",
    "cap= cv2.VideoCapture(1)\n",
    "\n",
    "while True:\n",
    "    success, img = cap.read()\n",
    "    cv2.imshow(\"Frame\", img)\n",
    "    k=cv2.waitKey(1)\n",
    "    \n",
    "    if k==ord('q'):\n",
    "        break\n",
    "        \n",
    "cap.release()\n",
    "cv2.destroyAllWindows()"
   ]
  },
  {
   "cell_type": "code",
   "execution_count": null,
   "id": "46622c2c",
   "metadata": {},
   "outputs": [],
   "source": [
    "#coloured image\n",
    "import cv2 \n",
    "\n",
    "img = cv2.imread(\"kitten.jpg\")\n",
    "\n",
    "cv2.imshow(\"Output Image\", img)\n",
    "\n",
    "cv2.waitKey(0)\n",
    "cv2.destroyAllWindows()"
   ]
  },
  {
   "cell_type": "code",
   "execution_count": null,
   "id": "8f5f5b52",
   "metadata": {},
   "outputs": [],
   "source": [
    "# black and white image\n",
    "import cv2 \n",
    "\n",
    "img = cv2.imread(\"kitten.jpg\",0)\n",
    "\n",
    "cv2.imshow(\"Output Image\", img)\n",
    "\n",
    "cv2.waitKey(0)\n",
    "cv2.destroyAllWindows()"
   ]
  },
  {
   "cell_type": "code",
   "execution_count": null,
   "id": "90a4a27d",
   "metadata": {},
   "outputs": [],
   "source": [
    "# how to findout/get pixel of image\n",
    "import cv2\n",
    "\n",
    "img = cv2.imread(\"kitten.jpg\",)\n",
    "\n",
    "cv2.imshow(\"Output Image\", img)\n",
    "print(img.shape) #(height,width,color)\n",
    "\n",
    "print(\"Colour of the Image: \", img.shape[2])\n",
    "\n",
    "cv2.waitKey(0)\n",
    "cv2.destroyAllWindows()"
   ]
  },
  {
   "cell_type": "code",
   "execution_count": 3,
   "id": "86aa8a5c",
   "metadata": {},
   "outputs": [],
   "source": [
    "# image rotation\n",
    "\n",
    "import cv2\n",
    "\n",
    "img = cv2.imread(\"kitten.jpg\")\n",
    "height,width=img.shape[:2]     #starting point: ending point+1\n",
    "\n",
    "rotation_matrix=cv2.getRotationMatrix2D((width/2,height/2),70,0.5)\n",
    "rotated_image=cv2.warpAffine(img,rotation_matrix,(width,height))\n",
    "\n",
    "cv2.imshow(\"Output Image\", img)\n",
    "cv2.imshow(\"Rotated Image\",rotated_image)\n",
    "\n",
    "cv2.waitKey(0)\n",
    "cv2.destroyAllWindows()"
   ]
  },
  {
   "cell_type": "code",
   "execution_count": null,
   "id": "d704f699",
   "metadata": {},
   "outputs": [],
   "source": []
  }
 ],
 "metadata": {
  "kernelspec": {
   "display_name": "Python 3 (ipykernel)",
   "language": "python",
   "name": "python3"
  },
  "language_info": {
   "codemirror_mode": {
    "name": "ipython",
    "version": 3
   },
   "file_extension": ".py",
   "mimetype": "text/x-python",
   "name": "python",
   "nbconvert_exporter": "python",
   "pygments_lexer": "ipython3",
   "version": "3.8.7"
  }
 },
 "nbformat": 4,
 "nbformat_minor": 5
}
